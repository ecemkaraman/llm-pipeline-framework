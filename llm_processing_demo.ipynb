{
 "cells": [
  {
   "cell_type": "markdown",
   "metadata": {},
   "source": [
    "# 🚀 Token Processing in LLMs: Step-by-Step Demonstration\n",
    "### 📌 Understand how text is transformed inside an LLM, from Token IDs to Self-Attention\n",
    "This notebook will guide you through:\n",
    "- ✅ Tokenization (Converting text into Token IDs)\n",
    "- ✅ Embedding Layer (Mapping tokens to dense vectors)\n",
    "- ✅ Positional Encoding (Adding order information)\n",
    "- ✅ Self-Attention (Computing relationships between words)\n",
    "- ✅ Multi-Head Attention & Feedforward Network\n"
   ]
  },
  {
   "cell_type": "code",
   "execution_count": 1,
   "metadata": {},
   "outputs": [
    {
     "name": "stdout",
     "output_type": "stream",
     "text": [
      "Requirement already satisfied: transformers in /opt/anaconda3/lib/python3.12/site-packages (4.49.0)\n",
      "Requirement already satisfied: numpy in /opt/anaconda3/lib/python3.12/site-packages (1.26.4)\n",
      "Collecting torch\n",
      "  Downloading torch-2.6.0-cp312-none-macosx_11_0_arm64.whl.metadata (28 kB)\n",
      "Requirement already satisfied: matplotlib in /opt/anaconda3/lib/python3.12/site-packages (3.9.2)\n",
      "Requirement already satisfied: filelock in /opt/anaconda3/lib/python3.12/site-packages (from transformers) (3.13.1)\n",
      "Requirement already satisfied: huggingface-hub<1.0,>=0.26.0 in /opt/anaconda3/lib/python3.12/site-packages (from transformers) (0.29.1)\n",
      "Requirement already satisfied: packaging>=20.0 in /opt/anaconda3/lib/python3.12/site-packages (from transformers) (24.1)\n",
      "Requirement already satisfied: pyyaml>=5.1 in /opt/anaconda3/lib/python3.12/site-packages (from transformers) (6.0.1)\n",
      "Requirement already satisfied: regex!=2019.12.17 in /opt/anaconda3/lib/python3.12/site-packages (from transformers) (2024.9.11)\n",
      "Requirement already satisfied: requests in /opt/anaconda3/lib/python3.12/site-packages (from transformers) (2.32.3)\n",
      "Requirement already satisfied: tokenizers<0.22,>=0.21 in /opt/anaconda3/lib/python3.12/site-packages (from transformers) (0.21.0)\n",
      "Requirement already satisfied: safetensors>=0.4.1 in /opt/anaconda3/lib/python3.12/site-packages (from transformers) (0.5.3)\n",
      "Requirement already satisfied: tqdm>=4.27 in /opt/anaconda3/lib/python3.12/site-packages (from transformers) (4.66.5)\n",
      "Requirement already satisfied: typing-extensions>=4.10.0 in /opt/anaconda3/lib/python3.12/site-packages (from torch) (4.11.0)\n",
      "Requirement already satisfied: networkx in /opt/anaconda3/lib/python3.12/site-packages (from torch) (3.3)\n",
      "Requirement already satisfied: jinja2 in /opt/anaconda3/lib/python3.12/site-packages (from torch) (3.1.4)\n",
      "Requirement already satisfied: fsspec in /opt/anaconda3/lib/python3.12/site-packages (from torch) (2024.6.1)\n",
      "Requirement already satisfied: setuptools in /opt/anaconda3/lib/python3.12/site-packages (from torch) (75.1.0)\n",
      "Collecting sympy==1.13.1 (from torch)\n",
      "  Downloading sympy-1.13.1-py3-none-any.whl.metadata (12 kB)\n",
      "Requirement already satisfied: mpmath<1.4,>=1.1.0 in /opt/anaconda3/lib/python3.12/site-packages (from sympy==1.13.1->torch) (1.3.0)\n",
      "Requirement already satisfied: contourpy>=1.0.1 in /opt/anaconda3/lib/python3.12/site-packages (from matplotlib) (1.2.0)\n",
      "Requirement already satisfied: cycler>=0.10 in /opt/anaconda3/lib/python3.12/site-packages (from matplotlib) (0.11.0)\n",
      "Requirement already satisfied: fonttools>=4.22.0 in /opt/anaconda3/lib/python3.12/site-packages (from matplotlib) (4.51.0)\n",
      "Requirement already satisfied: kiwisolver>=1.3.1 in /opt/anaconda3/lib/python3.12/site-packages (from matplotlib) (1.4.4)\n",
      "Requirement already satisfied: pillow>=8 in /opt/anaconda3/lib/python3.12/site-packages (from matplotlib) (10.4.0)\n",
      "Requirement already satisfied: pyparsing>=2.3.1 in /opt/anaconda3/lib/python3.12/site-packages (from matplotlib) (3.1.2)\n",
      "Requirement already satisfied: python-dateutil>=2.7 in /opt/anaconda3/lib/python3.12/site-packages (from matplotlib) (2.9.0.post0)\n",
      "Requirement already satisfied: six>=1.5 in /opt/anaconda3/lib/python3.12/site-packages (from python-dateutil>=2.7->matplotlib) (1.16.0)\n",
      "Requirement already satisfied: MarkupSafe>=2.0 in /opt/anaconda3/lib/python3.12/site-packages (from jinja2->torch) (2.1.3)\n",
      "Requirement already satisfied: charset-normalizer<4,>=2 in /opt/anaconda3/lib/python3.12/site-packages (from requests->transformers) (3.3.2)\n",
      "Requirement already satisfied: idna<4,>=2.5 in /opt/anaconda3/lib/python3.12/site-packages (from requests->transformers) (3.7)\n",
      "Requirement already satisfied: urllib3<3,>=1.21.1 in /opt/anaconda3/lib/python3.12/site-packages (from requests->transformers) (2.2.3)\n",
      "Requirement already satisfied: certifi>=2017.4.17 in /opt/anaconda3/lib/python3.12/site-packages (from requests->transformers) (2024.8.30)\n",
      "Downloading torch-2.6.0-cp312-none-macosx_11_0_arm64.whl (66.5 MB)\n",
      "\u001b[2K   \u001b[90m━━━━━━━━━━━━━━━━━━━━━━━━━━━━━━━━━━━━━━━━\u001b[0m \u001b[32m66.5/66.5 MB\u001b[0m \u001b[31m21.7 MB/s\u001b[0m eta \u001b[36m0:00:00\u001b[0ma \u001b[36m0:00:01\u001b[0m\n",
      "\u001b[?25hDownloading sympy-1.13.1-py3-none-any.whl (6.2 MB)\n",
      "\u001b[2K   \u001b[90m━━━━━━━━━━━━━━━━━━━━━━━━━━━━━━━━━━━━━━━━\u001b[0m \u001b[32m6.2/6.2 MB\u001b[0m \u001b[31m25.5 MB/s\u001b[0m eta \u001b[36m0:00:00\u001b[0ma \u001b[36m0:00:01\u001b[0m\n",
      "\u001b[?25hInstalling collected packages: sympy, torch\n",
      "  Attempting uninstall: sympy\n",
      "    Found existing installation: sympy 1.13.2\n",
      "    Uninstalling sympy-1.13.2:\n",
      "      Successfully uninstalled sympy-1.13.2\n",
      "Successfully installed sympy-1.13.1 torch-2.6.0\n"
     ]
    }
   ],
   "source": [
    "# Install required libraries\n",
    "!pip install transformers numpy torch matplotlib"
   ]
  },
  {
   "cell_type": "code",
   "execution_count": 2,
   "metadata": {},
   "outputs": [],
   "source": [
    "import numpy as np\n",
    "import torch\n",
    "import torch.nn as nn\n",
    "import matplotlib.pyplot as plt\n",
    "from transformers import AutoTokenizer, AutoModel\n",
    "import math"
   ]
  },
  {
   "cell_type": "markdown",
   "metadata": {},
   "source": [
    "## 🔹 Define Sample Input Text & Tokenization\n",
    "We'll tokenize the sentence into Token IDs."
   ]
  },
  {
   "cell_type": "code",
   "execution_count": 3,
   "metadata": {},
   "outputs": [
    {
     "data": {
      "application/vnd.jupyter.widget-view+json": {
       "model_id": "8d4c1e7a4afd4e278f333848af86a746",
       "version_major": 2,
       "version_minor": 0
      },
      "text/plain": [
       "tokenizer_config.json:   0%|          | 0.00/26.0 [00:00<?, ?B/s]"
      ]
     },
     "metadata": {},
     "output_type": "display_data"
    },
    {
     "data": {
      "application/vnd.jupyter.widget-view+json": {
       "model_id": "c2b9446d672d4c9f8cbd82bb273063fe",
       "version_major": 2,
       "version_minor": 0
      },
      "text/plain": [
       "config.json:   0%|          | 0.00/665 [00:00<?, ?B/s]"
      ]
     },
     "metadata": {},
     "output_type": "display_data"
    },
    {
     "data": {
      "application/vnd.jupyter.widget-view+json": {
       "model_id": "b437a0269e524996a3e5b5eef503506d",
       "version_major": 2,
       "version_minor": 0
      },
      "text/plain": [
       "vocab.json:   0%|          | 0.00/1.04M [00:00<?, ?B/s]"
      ]
     },
     "metadata": {},
     "output_type": "display_data"
    },
    {
     "data": {
      "application/vnd.jupyter.widget-view+json": {
       "model_id": "9507dcc4e33343d7858c9684702927af",
       "version_major": 2,
       "version_minor": 0
      },
      "text/plain": [
       "merges.txt:   0%|          | 0.00/456k [00:00<?, ?B/s]"
      ]
     },
     "metadata": {},
     "output_type": "display_data"
    },
    {
     "data": {
      "application/vnd.jupyter.widget-view+json": {
       "model_id": "4c84a5960fad4b53a086f1a6f4cb864e",
       "version_major": 2,
       "version_minor": 0
      },
      "text/plain": [
       "tokenizer.json:   0%|          | 0.00/1.36M [00:00<?, ?B/s]"
      ]
     },
     "metadata": {},
     "output_type": "display_data"
    },
    {
     "name": "stdout",
     "output_type": "stream",
     "text": [
      "🔹 Tokens: ['The', 'Ġcat', 'Ġsat', 'Ġon', 'Ġthe', 'Ġmat']\n",
      "🔹 Token IDs: [464, 3797, 3332, 319, 262, 2603]\n"
     ]
    }
   ],
   "source": [
    "# Load a tokenizer (GPT-2 as an example)\n",
    "tokenizer = AutoTokenizer.from_pretrained('gpt2')\n",
    "\n",
    "# Define sample text\n",
    "text = \"The cat sat on the mat\"\n",
    "tokens = tokenizer.tokenize(text)\n",
    "token_ids = tokenizer.convert_tokens_to_ids(tokens)\n",
    "\n",
    "print(\"🔹 Tokens:\", tokens)\n",
    "print(\"🔹 Token IDs:\", token_ids)"
   ]
  },
  {
   "cell_type": "markdown",
   "metadata": {},
   "source": [
    "## 🔹 Embedding Layer: Converting Token IDs into Dense Vectors\n",
    "Each token ID is mapped to a vector in a high-dimensional space."
   ]
  },
  {
   "cell_type": "code",
   "execution_count": 5,
   "metadata": {},
   "outputs": [
    {
     "name": "stdout",
     "output_type": "stream",
     "text": [
      "🔹 Embedded Token Shape: torch.Size([6, 8])\n",
      "🔹 First Token Embedding: [-0.574144    1.139774    0.03128648 -0.6340446  -0.907468    1.9675677\n",
      "  2.0192716   0.7869233 ]\n"
     ]
    }
   ],
   "source": [
    "# Define an embedding layer (Assume embedding size is 8 for demonstration)\n",
    "embedding_layer = nn.Embedding(num_embeddings=tokenizer.vocab_size, embedding_dim=8)\n",
    "embedded_tokens = embedding_layer(torch.tensor(token_ids))\n",
    "\n",
    "print(\"🔹 Embedded Token Shape:\", embedded_tokens.shape)\n",
    "print(\"🔹 First Token Embedding:\", embedded_tokens[0].detach().numpy())"
   ]
  },
  {
   "cell_type": "markdown",
   "metadata": {},
   "source": [
    "## 🔹 Positional Encoding: Adding Order Information to Tokens\n",
    "Since Transformers process words in parallel, positional encoding ensures word order is retained."
   ]
  },
  {
   "cell_type": "code",
   "execution_count": 6,
   "metadata": {},
   "outputs": [
    {
     "name": "stdout",
     "output_type": "stream",
     "text": [
      "🔹 Positional Encoding Shape: torch.Size([6, 8])\n",
      "🔹 First Positional Encoding Vector: [0. 1. 0. 1. 0. 1. 0. 1.]\n"
     ]
    }
   ],
   "source": [
    "def positional_encoding(seq_length, d_model):\n",
    "    pe = np.zeros((seq_length, d_model))\n",
    "    for pos in range(seq_length):\n",
    "        for i in range(0, d_model, 2):\n",
    "            pe[pos, i] = math.sin(pos / (10000 ** (i / d_model)))\n",
    "            pe[pos, i + 1] = math.cos(pos / (10000 ** (i / d_model)))\n",
    "    return torch.tensor(pe, dtype=torch.float32)\n",
    "\n",
    "# Apply positional encoding\n",
    "pos_encoding = positional_encoding(len(token_ids), 8)\n",
    "print(\"🔹 Positional Encoding Shape:\", pos_encoding.shape)\n",
    "print(\"🔹 First Positional Encoding Vector:\", pos_encoding[0].numpy())"
   ]
  },
  {
   "cell_type": "markdown",
   "metadata": {},
   "source": [
    "## 🔹 Self-Attention Mechanism: Computing Word Relationships\n",
    "We compute Query, Key, and Value matrices to find word importance."
   ]
  },
  {
   "cell_type": "code",
   "execution_count": 7,
   "metadata": {},
   "outputs": [
    {
     "name": "stdout",
     "output_type": "stream",
     "text": [
      "🔹 Attention Scores Shape: torch.Size([6, 6])\n",
      "🔹 Attention Weights: [[0.11329384 0.16812378 0.16182631 0.15167604 0.1856198  0.21946025]\n",
      " [0.15508711 0.1691271  0.16654402 0.16095573 0.16701701 0.18126905]\n",
      " [0.1568301  0.1694073  0.17542073 0.12855673 0.14569059 0.22409458]\n",
      " [0.14045294 0.16277742 0.19190936 0.1230769  0.19387445 0.18790884]\n",
      " [0.23203024 0.21496472 0.18042354 0.10720392 0.11903882 0.14633878]\n",
      " [0.19308832 0.17930296 0.16438776 0.15497737 0.12292111 0.18532243]]\n"
     ]
    }
   ],
   "source": [
    "d_model = 8  # Embedding dimension\n",
    "\n",
    "# Define Q, K, V transformation matrices\n",
    "W_Q = nn.Linear(d_model, d_model)\n",
    "W_K = nn.Linear(d_model, d_model)\n",
    "W_V = nn.Linear(d_model, d_model)\n",
    "\n",
    "# Compute Q, K, V\n",
    "Q = W_Q(embedded_tokens)\n",
    "K = W_K(embedded_tokens)\n",
    "V = W_V(embedded_tokens)\n",
    "\n",
    "# Compute Attention Scores (Scaled Dot Product)\n",
    "scores = torch.matmul(Q, K.transpose(-2, -1)) / math.sqrt(d_model)\n",
    "attention_weights = torch.nn.functional.softmax(scores, dim=-1)\n",
    "\n",
    "print(\"🔹 Attention Scores Shape:\", scores.shape)\n",
    "print(\"🔹 Attention Weights:\", attention_weights.detach().numpy())"
   ]
  },
  {
   "cell_type": "markdown",
   "metadata": {},
   "source": [
    "## 🔹 Apply Attention to Value V\n",
    "The weighted sum of values determines the final representation."
   ]
  },
  {
   "cell_type": "code",
   "execution_count": 8,
   "metadata": {},
   "outputs": [
    {
     "name": "stdout",
     "output_type": "stream",
     "text": [
      "🔹 Attention Output Shape: torch.Size([6, 8])\n"
     ]
    }
   ],
   "source": [
    "output = torch.matmul(attention_weights, V)\n",
    "print(\"🔹 Attention Output Shape:\", output.shape)"
   ]
  },
  {
   "cell_type": "markdown",
   "metadata": {},
   "source": [
    "## 🔹 Multi-Head Attention Simulation\n",
    "Instead of one attention mechanism, we use multiple heads."
   ]
  },
  {
   "cell_type": "code",
   "execution_count": 9,
   "metadata": {},
   "outputs": [
    {
     "name": "stdout",
     "output_type": "stream",
     "text": [
      "🔹 Multi-Head Output Shape: torch.Size([6, 16])\n"
     ]
    }
   ],
   "source": [
    "num_heads = 2  # Simulating two attention heads\n",
    "multi_head_output = torch.cat([output, output], dim=-1)\n",
    "print(\"🔹 Multi-Head Output Shape:\", multi_head_output.shape)"
   ]
  },
  {
   "cell_type": "markdown",
   "metadata": {},
   "source": [
    "## 🔹 Feedforward Layer: Refining Representations\n",
    "Final transformation to enrich context before moving to the next Transformer block."
   ]
  },
  {
   "cell_type": "code",
   "execution_count": 10,
   "metadata": {},
   "outputs": [
    {
     "name": "stdout",
     "output_type": "stream",
     "text": [
      "🔹 Final Representation Shape: torch.Size([6, 16])\n"
     ]
    }
   ],
   "source": [
    "feedforward = nn.Sequential(\n",
    "    nn.Linear(d_model * 2, 32),\n",
    "    nn.ReLU(),\n",
    "    nn.Linear(32, d_model * 2)\n",
    ")\n",
    "\n",
    "final_representation = feedforward(multi_head_output)\n",
    "print(\"🔹 Final Representation Shape:\", final_representation.shape)"
   ]
  },
  {
   "cell_type": "markdown",
   "metadata": {},
   "source": [
    "## 🎯 Summary: How Text is Processed in an LLM\n",
    "- ✅ Tokenization → Converts text into token IDs\n",
    "- ✅ Embedding Layer → Maps tokens into dense numerical vectors\n",
    "- ✅ Positional Encoding → Adds order information using sine & cosine waves\n",
    "- ✅ Self-Attention → Determines which words are important in context\n",
    "- ✅ Multi-Head Attention → Enhances word relationships from different perspectives\n",
    "- ✅ Feedforward Network → Further refines contextual embeddings\n",
    "\n",
    "🚀 **This is the foundation of how Transformers process text!**"
   ]
  }
 ],
 "metadata": {
  "kernelspec": {
   "display_name": "Python 3 (ipykernel)",
   "language": "python",
   "name": "python3"
  },
  "language_info": {
   "codemirror_mode": {
    "name": "ipython",
    "version": 3
   },
   "file_extension": ".py",
   "mimetype": "text/x-python",
   "name": "python",
   "nbconvert_exporter": "python",
   "pygments_lexer": "ipython3",
   "version": "3.12.7"
  }
 },
 "nbformat": 4,
 "nbformat_minor": 4
}
